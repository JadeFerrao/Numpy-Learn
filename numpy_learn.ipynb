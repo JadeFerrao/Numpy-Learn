{
  "nbformat": 4,
  "nbformat_minor": 0,
  "metadata": {
    "colab": {
      "provenance": [],
      "authorship_tag": "ABX9TyPlqISjQXe8drPRbg+NNo7z"
    },
    "kernelspec": {
      "name": "python3",
      "display_name": "Python 3"
    },
    "language_info": {
      "name": "python"
    }
  },
  "cells": [
    {
      "cell_type": "markdown",
      "source": [],
      "metadata": {
        "id": "-vGUqbnAQxfM"
      }
    },
    {
      "cell_type": "markdown",
      "source": [
        "importing numpy"
      ],
      "metadata": {
        "id": "OSS5vvyPQ89I"
      }
    },
    {
      "cell_type": "code",
      "source": [
        "import numpy as np"
      ],
      "metadata": {
        "id": "2ucxg-g-Q__O"
      },
      "execution_count": 1,
      "outputs": []
    },
    {
      "cell_type": "markdown",
      "source": [
        "time taken by list"
      ],
      "metadata": {
        "id": "mHw5lbVsRK_T"
      }
    },
    {
      "cell_type": "code",
      "source": [
        "from time import process_time"
      ],
      "metadata": {
        "id": "pppvYV1_RM0f"
      },
      "execution_count": 2,
      "outputs": []
    },
    {
      "cell_type": "markdown",
      "source": [
        "time taken"
      ],
      "metadata": {
        "id": "izFjgC3ARaYB"
      }
    },
    {
      "cell_type": "code",
      "source": [
        "python_list = [i for i in range(10000)]\n",
        "\n",
        "start_time = process_time ()\n",
        "\n",
        "python_list = [i+5 for i in python_list]\n",
        "\n",
        "end_time = process_time ()\n",
        "\n",
        "print (end_time - start_time)"
      ],
      "metadata": {
        "colab": {
          "base_uri": "https://localhost:8080/"
        },
        "id": "AzE5vCVTRcui",
        "outputId": "f44f298b-524e-4f8f-edc1-bc5aff5e8ef4"
      },
      "execution_count": 3,
      "outputs": [
        {
          "output_type": "stream",
          "name": "stdout",
          "text": [
            "0.0015040189999995235\n"
          ]
        }
      ]
    },
    {
      "cell_type": "markdown",
      "source": [
        "using numpy array"
      ],
      "metadata": {
        "id": "eLfoqCcdRxJo"
      }
    },
    {
      "cell_type": "code",
      "source": [
        "np_array = np.array([i for i in range (10000)])\n",
        "\n",
        "start_time = process_time()\n",
        "\n",
        "np_array += 5\n",
        "\n",
        "end_time = process_time()\n",
        "\n",
        "print(end_time - start_time)"
      ],
      "metadata": {
        "colab": {
          "base_uri": "https://localhost:8080/"
        },
        "id": "Dg9NQiSxR3n8",
        "outputId": "25e07ba1-3df0-438c-b73f-cf203898dd24"
      },
      "execution_count": 4,
      "outputs": [
        {
          "output_type": "stream",
          "name": "stdout",
          "text": [
            "0.0003616239999999493\n"
          ]
        }
      ]
    },
    {
      "cell_type": "markdown",
      "source": [],
      "metadata": {
        "id": "GzS4PYFySqjX"
      }
    },
    {
      "cell_type": "markdown",
      "source": [
        "numpy array"
      ],
      "metadata": {
        "id": "DQIqxgSbSHht"
      }
    },
    {
      "cell_type": "code",
      "source": [
        "np_array = np.array([1,2,3,4,5])\n",
        "print(np_array)\n",
        "type(np_array)"
      ],
      "metadata": {
        "colab": {
          "base_uri": "https://localhost:8080/"
        },
        "id": "OOTbupLZowhh",
        "outputId": "abca5421-5265-42ad-9b3b-261b0016d6d9"
      },
      "execution_count": 5,
      "outputs": [
        {
          "output_type": "stream",
          "name": "stdout",
          "text": [
            "[1 2 3 4 5]\n"
          ]
        },
        {
          "output_type": "execute_result",
          "data": {
            "text/plain": [
              "numpy.ndarray"
            ]
          },
          "metadata": {},
          "execution_count": 5
        }
      ]
    },
    {
      "cell_type": "markdown",
      "source": [
        "2d array"
      ],
      "metadata": {
        "id": "zv8ufo7dpKWI"
      }
    },
    {
      "cell_type": "code",
      "source": [
        "b = np.array ([ (1,2,3,4), (5,6,7,8)])\n",
        "print(b)"
      ],
      "metadata": {
        "colab": {
          "base_uri": "https://localhost:8080/"
        },
        "id": "N52Gj8aspk_u",
        "outputId": "4c9fd7c0-c3f2-4e7f-a457-63e1b1d2c79e"
      },
      "execution_count": 6,
      "outputs": [
        {
          "output_type": "stream",
          "name": "stdout",
          "text": [
            "[[1 2 3 4]\n",
            " [5 6 7 8]]\n"
          ]
        }
      ]
    },
    {
      "cell_type": "code",
      "source": [
        "b.shape"
      ],
      "metadata": {
        "colab": {
          "base_uri": "https://localhost:8080/"
        },
        "id": "9c0wr_cUpuwS",
        "outputId": "c8052835-fcc4-4ed1-d718-961092f25095"
      },
      "execution_count": null,
      "outputs": [
        {
          "output_type": "execute_result",
          "data": {
            "text/plain": [
              "(2, 4)"
            ]
          },
          "metadata": {},
          "execution_count": 9
        }
      ]
    },
    {
      "cell_type": "markdown",
      "source": [
        "placeholders"
      ],
      "metadata": {
        "id": "H3qsbHY-qr_4"
      }
    },
    {
      "cell_type": "code",
      "source": [
        "x = np.ones((4,5))\n",
        "print(x)"
      ],
      "metadata": {
        "colab": {
          "base_uri": "https://localhost:8080/"
        },
        "id": "DHnmUrMuqtwY",
        "outputId": "0611dbb0-50c2-41d6-c3b8-a7566c96b8f7"
      },
      "execution_count": 7,
      "outputs": [
        {
          "output_type": "stream",
          "name": "stdout",
          "text": [
            "[[1. 1. 1. 1. 1.]\n",
            " [1. 1. 1. 1. 1.]\n",
            " [1. 1. 1. 1. 1.]\n",
            " [1. 1. 1. 1. 1.]]\n"
          ]
        }
      ]
    },
    {
      "cell_type": "code",
      "source": [
        "z = np.full((5,4),5)\n",
        "print(z)"
      ],
      "metadata": {
        "colab": {
          "base_uri": "https://localhost:8080/"
        },
        "id": "OShTVffYrSXy",
        "outputId": "785a9433-de6a-4192-ea17-6bb7f43a356e"
      },
      "execution_count": 8,
      "outputs": [
        {
          "output_type": "stream",
          "name": "stdout",
          "text": [
            "[[5 5 5 5]\n",
            " [5 5 5 5]\n",
            " [5 5 5 5]\n",
            " [5 5 5 5]\n",
            " [5 5 5 5]]\n"
          ]
        }
      ]
    },
    {
      "cell_type": "code",
      "source": [
        "#identity matrix\n",
        "j = np.eye((5))\n",
        "print(j)"
      ],
      "metadata": {
        "colab": {
          "base_uri": "https://localhost:8080/"
        },
        "id": "fw2SboV1r8uZ",
        "outputId": "237787e4-40c2-472c-f022-091952873469"
      },
      "execution_count": 9,
      "outputs": [
        {
          "output_type": "stream",
          "name": "stdout",
          "text": [
            "[[1. 0. 0. 0. 0.]\n",
            " [0. 1. 0. 0. 0.]\n",
            " [0. 0. 1. 0. 0.]\n",
            " [0. 0. 0. 1. 0.]\n",
            " [0. 0. 0. 0. 1.]]\n"
          ]
        }
      ]
    },
    {
      "cell_type": "code",
      "source": [
        "#random nos\n",
        "s = np.random.random((3,3))\n",
        "print(s)"
      ],
      "metadata": {
        "colab": {
          "base_uri": "https://localhost:8080/"
        },
        "id": "YPWFYBlbsq2e",
        "outputId": "30db20b0-982d-46ee-a2e9-be11ebd75252"
      },
      "execution_count": 10,
      "outputs": [
        {
          "output_type": "stream",
          "name": "stdout",
          "text": [
            "[[0.58894574 0.9197838  0.74337922]\n",
            " [0.45168423 0.18762597 0.10617647]\n",
            " [0.376405   0.37807743 0.10263937]]\n"
          ]
        }
      ]
    },
    {
      "cell_type": "markdown",
      "source": [
        "random integer values array within a specific range"
      ],
      "metadata": {
        "id": "WJhYbvyStLpw"
      }
    },
    {
      "cell_type": "code",
      "source": [
        "c = np.random.randint(10,100,(3,3))\n",
        "print(c)"
      ],
      "metadata": {
        "colab": {
          "base_uri": "https://localhost:8080/"
        },
        "id": "VPXRXstftPaY",
        "outputId": "a4a08e9f-5611-4fc2-d5dc-893a671fd664"
      },
      "execution_count": 11,
      "outputs": [
        {
          "output_type": "stream",
          "name": "stdout",
          "text": [
            "[[71 90 95]\n",
            " [48 47 57]\n",
            " [93 74 70]]\n"
          ]
        }
      ]
    },
    {
      "cell_type": "markdown",
      "source": [
        "array of evenly spaced values --> specifying the numbers required"
      ],
      "metadata": {
        "id": "w88m3A02uNi2"
      }
    },
    {
      "cell_type": "code",
      "source": [
        "d = np.linspace (10,30,6)\n",
        "print(d)"
      ],
      "metadata": {
        "colab": {
          "base_uri": "https://localhost:8080/"
        },
        "id": "aNKG87kMuTGH",
        "outputId": "24b92f95-562e-4e83-a06d-062951057277"
      },
      "execution_count": 12,
      "outputs": [
        {
          "output_type": "stream",
          "name": "stdout",
          "text": [
            "[10. 14. 18. 22. 26. 30.]\n"
          ]
        }
      ]
    },
    {
      "cell_type": "code",
      "source": [
        "# using arrange ie specifies the step\n",
        "e = np.arange(10,30,5)\n",
        "print(e)"
      ],
      "metadata": {
        "colab": {
          "base_uri": "https://localhost:8080/"
        },
        "id": "xyzf7qwxuWbG",
        "outputId": "2a8dc2fd-fd31-4f30-c616-abf432e54c3d"
      },
      "execution_count": 13,
      "outputs": [
        {
          "output_type": "stream",
          "name": "stdout",
          "text": [
            "[10 15 20 25]\n"
          ]
        }
      ]
    },
    {
      "cell_type": "markdown",
      "source": [
        "convert list to array"
      ],
      "metadata": {
        "id": "cYWgESAMu9Cb"
      }
    },
    {
      "cell_type": "code",
      "source": [
        "list2 = [10, 20, 30, 20, 50]\n",
        "\n",
        "np_array = np.asarray(list2)\n",
        "print(np_array)"
      ],
      "metadata": {
        "colab": {
          "base_uri": "https://localhost:8080/"
        },
        "id": "2l5579y-u_fz",
        "outputId": "9c442694-f44e-4444-9934-bc1c4d783d0c"
      },
      "execution_count": 14,
      "outputs": [
        {
          "output_type": "stream",
          "name": "stdout",
          "text": [
            "[10 20 30 20 50]\n"
          ]
        }
      ]
    },
    {
      "cell_type": "markdown",
      "source": [
        "analysis of the array"
      ],
      "metadata": {
        "id": "cFw4UnuSwAj3"
      }
    },
    {
      "cell_type": "code",
      "source": [
        "c = np.random.randint(10,100,(3,3))\n",
        "print(c)"
      ],
      "metadata": {
        "colab": {
          "base_uri": "https://localhost:8080/"
        },
        "id": "xwp5wIl3wC8v",
        "outputId": "233bd181-a087-4b4f-95b5-656c91b7e823"
      },
      "execution_count": 15,
      "outputs": [
        {
          "output_type": "stream",
          "name": "stdout",
          "text": [
            "[[12 32 20]\n",
            " [82 19 80]\n",
            " [23 27 27]]\n"
          ]
        }
      ]
    },
    {
      "cell_type": "code",
      "source": [
        "print(c.shape)"
      ],
      "metadata": {
        "colab": {
          "base_uri": "https://localhost:8080/"
        },
        "id": "bf-pscZbwGTT",
        "outputId": "ac123fb9-475c-4977-956d-2c958157976c"
      },
      "execution_count": 16,
      "outputs": [
        {
          "output_type": "stream",
          "name": "stdout",
          "text": [
            "(3, 3)\n"
          ]
        }
      ]
    },
    {
      "cell_type": "code",
      "source": [
        "print(c.ndim)"
      ],
      "metadata": {
        "colab": {
          "base_uri": "https://localhost:8080/"
        },
        "id": "l_LK6pZjwIvY",
        "outputId": "9bdde0be-1774-42a2-ec18-8f0695f99773"
      },
      "execution_count": 17,
      "outputs": [
        {
          "output_type": "stream",
          "name": "stdout",
          "text": [
            "2\n"
          ]
        }
      ]
    },
    {
      "cell_type": "code",
      "source": [
        "print(c.size)"
      ],
      "metadata": {
        "colab": {
          "base_uri": "https://localhost:8080/"
        },
        "id": "2c8ObvgxwOVP",
        "outputId": "ded1510a-adbc-4fd1-9604-6ec2b53bc76c"
      },
      "execution_count": 18,
      "outputs": [
        {
          "output_type": "stream",
          "name": "stdout",
          "text": [
            "9\n"
          ]
        }
      ]
    },
    {
      "cell_type": "code",
      "source": [
        "print(c.dtype)"
      ],
      "metadata": {
        "colab": {
          "base_uri": "https://localhost:8080/"
        },
        "id": "w60xYJ0wwXUO",
        "outputId": "c1a59122-6302-4fc7-ecf8-679696d968cf"
      },
      "execution_count": 19,
      "outputs": [
        {
          "output_type": "stream",
          "name": "stdout",
          "text": [
            "int64\n"
          ]
        }
      ]
    },
    {
      "cell_type": "markdown",
      "source": [
        "operations on np array"
      ],
      "metadata": {
        "id": "LRu62j5bweN7"
      }
    },
    {
      "cell_type": "code",
      "source": [
        "a = [1,2,3,4,5]\n",
        "b = [6,7,8,9,10]\n",
        "#concatenete\n",
        "print(a+b)"
      ],
      "metadata": {
        "id": "-9GAQPzFwhGl",
        "colab": {
          "base_uri": "https://localhost:8080/"
        },
        "outputId": "9276288f-f9bc-4b65-a11d-a574bc225493"
      },
      "execution_count": 20,
      "outputs": [
        {
          "output_type": "stream",
          "name": "stdout",
          "text": [
            "[1, 2, 3, 4, 5, 6, 7, 8, 9, 10]\n"
          ]
        }
      ]
    },
    {
      "cell_type": "code",
      "source": [
        "a = np.random.randint (0,10, (2,2))\n",
        "b = np.random.randint (10,20, (2,2))\n",
        "\n",
        "print(a)\n",
        "print(b)"
      ],
      "metadata": {
        "colab": {
          "base_uri": "https://localhost:8080/"
        },
        "id": "D-kH2TDJ1llz",
        "outputId": "bdfbf361-9e3a-4075-a329-c8cdab1f307c"
      },
      "execution_count": 21,
      "outputs": [
        {
          "output_type": "stream",
          "name": "stdout",
          "text": [
            "[[3 1]\n",
            " [5 5]]\n",
            "[[15 13]\n",
            " [19 13]]\n"
          ]
        }
      ]
    },
    {
      "cell_type": "code",
      "source": [
        "print(a-b)\n",
        "\n",
        "print(a*b)\n",
        "\n",
        "print(a/b)"
      ],
      "metadata": {
        "colab": {
          "base_uri": "https://localhost:8080/"
        },
        "id": "508Xul321-O1",
        "outputId": "be104463-386f-497e-d0ab-025ecbde28c9"
      },
      "execution_count": 22,
      "outputs": [
        {
          "output_type": "stream",
          "name": "stdout",
          "text": [
            "[[-12 -12]\n",
            " [-14  -8]]\n",
            "[[45 13]\n",
            " [95 65]]\n",
            "[[0.2        0.07692308]\n",
            " [0.26315789 0.38461538]]\n"
          ]
        }
      ]
    },
    {
      "cell_type": "markdown",
      "source": [
        "array manipulation"
      ],
      "metadata": {
        "id": "PmcshjgkFffZ"
      }
    },
    {
      "cell_type": "code",
      "source": [
        " w = np.random.randint(0,10, (2,3))\n",
        " print(w)"
      ],
      "metadata": {
        "colab": {
          "base_uri": "https://localhost:8080/"
        },
        "id": "eJcu0X-RFhyv",
        "outputId": "b882ab31-1716-4f54-a36f-7f631961206a"
      },
      "execution_count": 23,
      "outputs": [
        {
          "output_type": "stream",
          "name": "stdout",
          "text": [
            "[[7 2 6]\n",
            " [2 4 8]]\n"
          ]
        }
      ]
    },
    {
      "cell_type": "code",
      "source": [
        "# transpose\n",
        "trans = np.transpose (w)\n",
        "print (trans)\n",
        "print (trans.shape)"
      ],
      "metadata": {
        "colab": {
          "base_uri": "https://localhost:8080/"
        },
        "id": "EPXQfh-jGDzD",
        "outputId": "e82dfbd4-2fb3-47a9-b071-700e72e7ae78"
      },
      "execution_count": 24,
      "outputs": [
        {
          "output_type": "stream",
          "name": "stdout",
          "text": [
            "[[7 2]\n",
            " [2 4]\n",
            " [6 8]]\n",
            "(3, 2)\n"
          ]
        }
      ]
    },
    {
      "cell_type": "code",
      "source": [
        "print(w.T)"
      ],
      "metadata": {
        "colab": {
          "base_uri": "https://localhost:8080/"
        },
        "id": "FYg-8ttiGr8A",
        "outputId": "23d4c784-3ff6-4001-ec9c-389a6dfb5cd3"
      },
      "execution_count": 25,
      "outputs": [
        {
          "output_type": "stream",
          "name": "stdout",
          "text": [
            "[[7 2]\n",
            " [2 4]\n",
            " [6 8]]\n"
          ]
        }
      ]
    },
    {
      "cell_type": "markdown",
      "source": [
        "reshape matrix"
      ],
      "metadata": {
        "id": "eh-vjP1YHCW6"
      }
    },
    {
      "cell_type": "code",
      "source": [
        "v = w.reshape(3,2)\n",
        "print(v)"
      ],
      "metadata": {
        "colab": {
          "base_uri": "https://localhost:8080/"
        },
        "id": "Fg8eF5vnHEi4",
        "outputId": "a88dd1a9-666f-4d6a-b23e-1a8d3d458611"
      },
      "execution_count": 26,
      "outputs": [
        {
          "output_type": "stream",
          "name": "stdout",
          "text": [
            "[[7 2]\n",
            " [6 2]\n",
            " [4 8]]\n"
          ]
        }
      ]
    }
  ]
}